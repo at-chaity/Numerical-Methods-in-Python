{
 "cells": [
  {
   "metadata": {},
   "cell_type": "markdown",
   "source": [
    "A linear system of equations is:\n",
    " a11x1+.......+an1xn=b1,\n",
    " a12x1+.......+an2xn=b2,\n",
    " .\n",
    " .\n",
    " .\n",
    " an1x1+.......+annxn=bn\n",
    " which can be defined by Ax=B, where, A is the coefficients(a11,...ann) matrix, B is the rhs vector (b1,....,bn) and x is the matrix of variables (x1,...,xn)."
   ],
   "id": "22f2b5115b09a3e3"
  },
  {
   "metadata": {},
   "cell_type": "markdown",
   "source": "Let's solve the system: 10x1-x2+2x3=6, -x1+11x2-x3+3x4=25,2x1-x2+10x3-x4=-11,3x2-x3+8x4=15\n",
   "id": "8c26d00739e7e7b2"
  },
  {
   "cell_type": "code",
   "id": "initial_id",
   "metadata": {
    "collapsed": true,
    "ExecuteTime": {
     "end_time": "2025-06-16T14:34:28.163408Z",
     "start_time": "2025-06-16T14:34:28.087382Z"
    }
   },
   "source": [
    "import sys\n",
    "import os\n",
    "sys.path.append(os.path.abspath(\"../Codes\"))\n",
    "\n",
    "from system_linear_eq.Gaussian_elimination import gauss_elimination\n",
    "from system_linear_eq.Jacobi import jacobi\n",
    "from system_linear_eq.Gauss_seidal import gauss_seidal\n",
    "from system_linear_eq.Sor import sor\n",
    "from system_linear_eq.LU_decomposition import lu_decom\n",
    "from system_linear_eq.power_eigen import power\n",
    "import numpy as np\n",
    "import matplotlib.pyplot as plt\n",
    "import pandas as pd\n",
    "\n",
    "A=np.array([[10,-1,2,0],[-1,11,-1,3],[2,-1,10,-1],[0,3,-1,8]],dtype=float)\n",
    "B=np.array([6,25,-11,15],dtype=float)\n",
    "X0=np.array([0,0,0,0],dtype=float) #initial guess of x for jacobi,gauss-seidal and sor methods\n",
    "tol=0.00001\n",
    "w=1.1\n",
    "#outputs\n",
    "x_ge=gauss_elimination(A,B)\n",
    "x_j,iter_j=jacobi(A,B,X0,tol,return_maxiter=True)\n",
    "x_gs,iter_gs=gauss_seidal(A,B,X0,tol,return_maxiter=True)\n",
    "x_sor,iter_sor=sor(A,B,X0,w,tol,return_maxiter=True)\n",
    "x_lu=lu_decom(A,B)\n",
    "x_exact = np.linalg.solve(A,B)\n",
    "\n",
    "\n",
    "#store all outputs in a dictionary\n",
    "methods={\"Exact solution by linalg.solve\":x_exact,\n",
    "         \"Gaussian elimination\":x_ge,\n",
    "         \"Gauss-Seidal\":x_gs,\n",
    "         \"Jacobi\":x_j,\n",
    "         \"SOR\":x_sor,\n",
    "         \"LU decomposition\":x_lu,}\n",
    "\n",
    "errors={name:np.linalg.norm(sol-x_exact)for name,sol in methods.items()}\n",
    "sol_table=pd.DataFrame(methods,index=[f\"x{i+1}\" for i in range(len(B))])\n",
    "er_table=pd.DataFrame.from_dict(errors,orient=\"index\",columns=[\"L2 norm\"])\n",
    "print(\"Solution table:\")\n",
    "display(sol_table)\n",
    "print(\"Error table:\")\n",
    "display(er_table)"
   ],
   "outputs": [
    {
     "name": "stdout",
     "output_type": "stream",
     "text": [
      "Solution table:\n"
     ]
    },
    {
     "data": {
      "text/plain": [
       "    Exact solution by linalg.solve  Gaussian elimination  Gauss-Seidal  \\\n",
       "x1                             1.0                   1.0      1.000001   \n",
       "x2                             2.0                   2.0      2.000000   \n",
       "x3                            -1.0                  -1.0     -1.000000   \n",
       "x4                             1.0                   1.0      1.000000   \n",
       "\n",
       "      Jacobi  SOR  LU decomposition  \n",
       "x1  1.000001  1.0               1.0  \n",
       "x2  1.999999  2.0               2.0  \n",
       "x3 -0.999999 -1.0              -1.0  \n",
       "x4  0.999999  1.0               1.0  "
      ],
      "text/html": [
       "<div>\n",
       "<style scoped>\n",
       "    .dataframe tbody tr th:only-of-type {\n",
       "        vertical-align: middle;\n",
       "    }\n",
       "\n",
       "    .dataframe tbody tr th {\n",
       "        vertical-align: top;\n",
       "    }\n",
       "\n",
       "    .dataframe thead th {\n",
       "        text-align: right;\n",
       "    }\n",
       "</style>\n",
       "<table border=\"1\" class=\"dataframe\">\n",
       "  <thead>\n",
       "    <tr style=\"text-align: right;\">\n",
       "      <th></th>\n",
       "      <th>Exact solution by linalg.solve</th>\n",
       "      <th>Gaussian elimination</th>\n",
       "      <th>Gauss-Seidal</th>\n",
       "      <th>Jacobi</th>\n",
       "      <th>SOR</th>\n",
       "      <th>LU decomposition</th>\n",
       "    </tr>\n",
       "  </thead>\n",
       "  <tbody>\n",
       "    <tr>\n",
       "      <th>x1</th>\n",
       "      <td>1.0</td>\n",
       "      <td>1.0</td>\n",
       "      <td>1.000001</td>\n",
       "      <td>1.000001</td>\n",
       "      <td>1.0</td>\n",
       "      <td>1.0</td>\n",
       "    </tr>\n",
       "    <tr>\n",
       "      <th>x2</th>\n",
       "      <td>2.0</td>\n",
       "      <td>2.0</td>\n",
       "      <td>2.000000</td>\n",
       "      <td>1.999999</td>\n",
       "      <td>2.0</td>\n",
       "      <td>2.0</td>\n",
       "    </tr>\n",
       "    <tr>\n",
       "      <th>x3</th>\n",
       "      <td>-1.0</td>\n",
       "      <td>-1.0</td>\n",
       "      <td>-1.000000</td>\n",
       "      <td>-0.999999</td>\n",
       "      <td>-1.0</td>\n",
       "      <td>-1.0</td>\n",
       "    </tr>\n",
       "    <tr>\n",
       "      <th>x4</th>\n",
       "      <td>1.0</td>\n",
       "      <td>1.0</td>\n",
       "      <td>1.000000</td>\n",
       "      <td>0.999999</td>\n",
       "      <td>1.0</td>\n",
       "      <td>1.0</td>\n",
       "    </tr>\n",
       "  </tbody>\n",
       "</table>\n",
       "</div>"
      ]
     },
     "metadata": {},
     "output_type": "display_data"
    },
    {
     "name": "stdout",
     "output_type": "stream",
     "text": [
      "Error table:\n"
     ]
    },
    {
     "data": {
      "text/plain": [
       "                                     L2 norm\n",
       "Exact solution by linalg.solve  0.000000e+00\n",
       "Gaussian elimination            1.110223e-16\n",
       "Gauss-Seidal                    6.997203e-07\n",
       "Jacobi                          2.285604e-06\n",
       "SOR                             2.797853e-07\n",
       "LU decomposition                1.110223e-16"
      ],
      "text/html": [
       "<div>\n",
       "<style scoped>\n",
       "    .dataframe tbody tr th:only-of-type {\n",
       "        vertical-align: middle;\n",
       "    }\n",
       "\n",
       "    .dataframe tbody tr th {\n",
       "        vertical-align: top;\n",
       "    }\n",
       "\n",
       "    .dataframe thead th {\n",
       "        text-align: right;\n",
       "    }\n",
       "</style>\n",
       "<table border=\"1\" class=\"dataframe\">\n",
       "  <thead>\n",
       "    <tr style=\"text-align: right;\">\n",
       "      <th></th>\n",
       "      <th>L2 norm</th>\n",
       "    </tr>\n",
       "  </thead>\n",
       "  <tbody>\n",
       "    <tr>\n",
       "      <th>Exact solution by linalg.solve</th>\n",
       "      <td>0.000000e+00</td>\n",
       "    </tr>\n",
       "    <tr>\n",
       "      <th>Gaussian elimination</th>\n",
       "      <td>1.110223e-16</td>\n",
       "    </tr>\n",
       "    <tr>\n",
       "      <th>Gauss-Seidal</th>\n",
       "      <td>6.997203e-07</td>\n",
       "    </tr>\n",
       "    <tr>\n",
       "      <th>Jacobi</th>\n",
       "      <td>2.285604e-06</td>\n",
       "    </tr>\n",
       "    <tr>\n",
       "      <th>SOR</th>\n",
       "      <td>2.797853e-07</td>\n",
       "    </tr>\n",
       "    <tr>\n",
       "      <th>LU decomposition</th>\n",
       "      <td>1.110223e-16</td>\n",
       "    </tr>\n",
       "  </tbody>\n",
       "</table>\n",
       "</div>"
      ]
     },
     "metadata": {},
     "output_type": "display_data"
    }
   ],
   "execution_count": 88
  },
  {
   "metadata": {},
   "cell_type": "markdown",
   "source": "According to L2-norm, Gaussian elimination and LU decomposition gives accurate results. But, Gaussian elimination is not suitable for larger system of equations as it needs more computational time. In that case, Gauss-Seidal and SOR method gives more accurate results in less computational time.",
   "id": "a85c817935f4d9be"
  },
  {
   "metadata": {
    "ExecuteTime": {
     "end_time": "2025-06-16T14:34:28.529902Z",
     "start_time": "2025-06-16T14:34:28.208845Z"
    }
   },
   "cell_type": "code",
   "source": [
    "# Data for plotting\n",
    "method = ['Jacobi', 'Gauss-Seidel', 'SOR']\n",
    "iterations = [iter_j, iter_gs, iter_sor]\n",
    "\n",
    "# Plot\n",
    "plt.figure(figsize=(5,5))\n",
    "plt.bar(method, iterations,width=0.2, color=['skyblue', 'orange', 'lightgreen'])\n",
    "plt.title('Iteration Comparison of Iterative Methods')\n",
    "plt.ylabel('Number of Iterations')\n",
    "plt.grid(axis='y', linestyle='--', alpha=0.7)\n",
    "plt.tight_layout()\n",
    "plt.show()"
   ],
   "id": "1da21ce857576340",
   "outputs": [
    {
     "data": {
      "text/plain": [
       "<Figure size 500x500 with 1 Axes>"
      ],
      "image/png": "[encoded data removed]"
     },
     "metadata": {},
     "output_type": "display_data"
    }
   ],
   "execution_count": 89
  },
  {
   "metadata": {},
   "cell_type": "markdown",
   "source": "Jacobi method needs more iterations to reach desired accuracy that is more time to converge. Whereas, Gauss-Seidal and SOR methods are more efficient in timing.",
   "id": "42af61ca2ccb7e8c"
  },
  {
   "metadata": {
    "ExecuteTime": {
     "end_time": "2025-06-16T14:34:28.892402Z",
     "start_time": "2025-06-16T14:34:28.623637Z"
    }
   },
   "cell_type": "code",
   "source": [
    "#comparison between omegas(SOR parameter)\n",
    "omega=np.array([0.8,1.1,1.5,1.8])\n",
    "iter1=np.zeros(len(omega),dtype=float)\n",
    "for i in range(len(omega)):\n",
    "    xsol,iter1[i]=sor(A,B,X0,omega[i],tol,return_maxiter=True)\n",
    "#plot\n",
    "plt.figure(figsize=(6,5))\n",
    "plt.bar(omega,iter1,width=0.1,color=['skyblue', 'orange', 'lightgreen','red'])\n",
    "plt.title('Iteration Comparison of omegas')\n",
    "plt.ylabel('Number of Iterations')\n",
    "plt.xlabel('Omega')\n",
    "plt.grid(axis='y', linestyle='--', alpha=0.7)\n",
    "plt.tight_layout()\n",
    "plt.show()\n",
    "\n"
   ],
   "id": "fe9a504e4f22a7f2",
   "outputs": [
    {
     "data": {
      "text/plain": [
       "<Figure size 600x500 with 1 Axes>"
      ],
      "image/png": "[encoded data removed]"
     },
     "metadata": {},
     "output_type": "display_data"
    }
   ],
   "execution_count": 90
  },
  {
   "metadata": {},
   "cell_type": "markdown",
   "source": "The ideal range of relaxation parameter's value for faster accuracies is 1.1-1.2.",
   "id": "de17969e8cb425dd"
  },
  {
   "metadata": {
    "ExecuteTime": {
     "end_time": "2025-06-16T14:34:28.913116Z",
     "start_time": "2025-06-16T14:34:28.892402Z"
    }
   },
   "cell_type": "code",
   "source": [
    "#eigenvalue check\n",
    "x0=np.array([1,1,1,1])\n",
    "eigen_p,eigen_v=power(A,x0,tol)\n",
    "eigenvalues, eigenvectors = np.linalg.eig(A)\n",
    "print(\"Dominant eigenvalue by Power method=\",eigen_p)\n",
    "print(\"Dominant eigenvalue by np.linalg.eig=\",eigenvalues[0])\n"
   ],
   "id": "415ce0d577fabe47",
   "outputs": [
    {
     "name": "stdout",
     "output_type": "stream",
     "text": [
      "Dominant eigenvalue by Power method= 14.073466866647149\n",
      "Dominant eigenvalue by np.linalg.eig= 14.073477752817427\n"
     ]
    }
   ],
   "execution_count": 91
  }
 ],
 "metadata": {
  "kernelspec": {
   "display_name": "Python 3",
   "language": "python",
   "name": "python3"
  },
  "language_info": {
   "codemirror_mode": {
    "name": "ipython",
    "version": 2
   },
   "file_extension": ".py",
   "mimetype": "text/x-python",
   "name": "python",
   "nbconvert_exporter": "python",
   "pygments_lexer": "ipython2",
   "version": "2.7.6"
  }
 },
 "nbformat": 4,
 "nbformat_minor": 5
}
