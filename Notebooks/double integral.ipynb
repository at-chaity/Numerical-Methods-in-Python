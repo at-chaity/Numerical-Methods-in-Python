{
 "cells": [
  {
   "cell_type": "code",
   "id": "initial_id",
   "metadata": {
    "collapsed": true,
    "ExecuteTime": {
     "end_time": "2025-06-16T07:27:29.831657Z",
     "start_time": "2025-06-16T07:27:13.483432Z"
    }
   },
   "source": [
    "import sys\n",
    "import os\n",
    "sys.path.append(os.path.abspath(\"../Codes\"))\n",
    "import pandas as pd\n",
    "import numpy as np\n",
    "from Integration.simpsons_double_integral import simpson_doublei\n",
    "\n",
    "#Run the function for different m and n\n",
    "m=np.array([2,4,6,8,10,12],dtype=int)\n",
    "n=np.array([4,8,6,4,8,10],dtype=int)\n",
    "L=len(m)\n",
    "s_r=[]\n",
    "err_s=[]\n",
    "main_r=[]\n",
    "for k in range(L):\n",
    "    s_val,main_v,err_val=simpson_doublei(\"2*y*sin(x)+(cos(x))**2\",c1=\"cos(x)\",d1=\"sin(x)\",a1=\"0\",b1=\"pi/4\",m=m[k],n=n[k],main_val=True,return_error=True)\n",
    "    s_r.append(s_val)\n",
    "    main_r.append(main_v)\n",
    "    err_s.append(err_val)\n",
    "data=[[a,b,c,d,e] for a,b,c,d,e in zip(m,n,main_r,s_r,err_s)]\n",
    "df=pd.DataFrame(data,columns=['m',\"n\",\"Exact solution\",\"Simpson's solution\",\"Error in Simpson's\"])\n",
    "display(df)"
   ],
   "outputs": [
    {
     "data": {
      "text/plain": [
       "    m   n  Exact solution  Simpson's solution  Error in Simpson's\n",
       "0   2   4       -0.511845           -0.511988            0.000143\n",
       "1   4   8       -0.511845           -0.511853            0.000009\n",
       "2   6   6       -0.511845           -0.511872            0.000028\n",
       "3   8   4       -0.511845           -0.511988            0.000143\n",
       "4  10   8       -0.511845           -0.511853            0.000009\n",
       "5  12  10       -0.511845           -0.511848            0.000004"
      ],
      "text/html": [
       "<div>\n",
       "<style scoped>\n",
       "    .dataframe tbody tr th:only-of-type {\n",
       "        vertical-align: middle;\n",
       "    }\n",
       "\n",
       "    .dataframe tbody tr th {\n",
       "        vertical-align: top;\n",
       "    }\n",
       "\n",
       "    .dataframe thead th {\n",
       "        text-align: right;\n",
       "    }\n",
       "</style>\n",
       "<table border=\"1\" class=\"dataframe\">\n",
       "  <thead>\n",
       "    <tr style=\"text-align: right;\">\n",
       "      <th></th>\n",
       "      <th>m</th>\n",
       "      <th>n</th>\n",
       "      <th>Exact solution</th>\n",
       "      <th>Simpson's solution</th>\n",
       "      <th>Error in Simpson's</th>\n",
       "    </tr>\n",
       "  </thead>\n",
       "  <tbody>\n",
       "    <tr>\n",
       "      <th>0</th>\n",
       "      <td>2</td>\n",
       "      <td>4</td>\n",
       "      <td>-0.511845</td>\n",
       "      <td>-0.511988</td>\n",
       "      <td>0.000143</td>\n",
       "    </tr>\n",
       "    <tr>\n",
       "      <th>1</th>\n",
       "      <td>4</td>\n",
       "      <td>8</td>\n",
       "      <td>-0.511845</td>\n",
       "      <td>-0.511853</td>\n",
       "      <td>0.000009</td>\n",
       "    </tr>\n",
       "    <tr>\n",
       "      <th>2</th>\n",
       "      <td>6</td>\n",
       "      <td>6</td>\n",
       "      <td>-0.511845</td>\n",
       "      <td>-0.511872</td>\n",
       "      <td>0.000028</td>\n",
       "    </tr>\n",
       "    <tr>\n",
       "      <th>3</th>\n",
       "      <td>8</td>\n",
       "      <td>4</td>\n",
       "      <td>-0.511845</td>\n",
       "      <td>-0.511988</td>\n",
       "      <td>0.000143</td>\n",
       "    </tr>\n",
       "    <tr>\n",
       "      <th>4</th>\n",
       "      <td>10</td>\n",
       "      <td>8</td>\n",
       "      <td>-0.511845</td>\n",
       "      <td>-0.511853</td>\n",
       "      <td>0.000009</td>\n",
       "    </tr>\n",
       "    <tr>\n",
       "      <th>5</th>\n",
       "      <td>12</td>\n",
       "      <td>10</td>\n",
       "      <td>-0.511845</td>\n",
       "      <td>-0.511848</td>\n",
       "      <td>0.000004</td>\n",
       "    </tr>\n",
       "  </tbody>\n",
       "</table>\n",
       "</div>"
      ]
     },
     "metadata": {},
     "output_type": "display_data"
    }
   ],
   "execution_count": 1
  },
  {
   "metadata": {},
   "cell_type": "markdown",
   "source": "It's likely that for larger step sizes (m,n) the accuracy gets better.",
   "id": "66e139681257f079"
  }
 ],
 "metadata": {
  "kernelspec": {
   "display_name": "Python 3",
   "language": "python",
   "name": "python3"
  },
  "language_info": {
   "codemirror_mode": {
    "name": "ipython",
    "version": 2
   },
   "file_extension": ".py",
   "mimetype": "text/x-python",
   "name": "python",
   "nbconvert_exporter": "python",
   "pygments_lexer": "ipython2",
   "version": "2.7.6"
  }
 },
 "nbformat": 4,
 "nbformat_minor": 5
}
