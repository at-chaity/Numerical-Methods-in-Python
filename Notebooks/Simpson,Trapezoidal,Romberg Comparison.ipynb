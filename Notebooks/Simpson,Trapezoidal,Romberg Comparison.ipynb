{
 "cells": [
  {
   "cell_type": "code",
   "id": "initial_id",
   "metadata": {
    "collapsed": true,
    "ExecuteTime": {
     "end_time": "2025-06-15T17:27:48.174403Z",
     "start_time": "2025-06-15T17:27:48.146159Z"
    }
   },
   "source": [
    "import sys\n",
    "import os\n",
    "\n",
    "import pandas as pd\n",
    "\n",
    "sys.path.append(os.path.abspath(\"../Codes\"))\n",
    "\n",
    "from Integration.composite_integration import simpson_trapezoidal\n",
    "from Integration.Romberg_integration import romberg\n",
    "\n",
    "#Run both functions\n",
    "sim_res,trap_res,main_res,err_s,err_t=simpson_trapezoidal(\"sin(x)\",a1=\"0\",b1=\"pi\",n=2,n1=2,main_val=True,error_s=True,error_t=True)\n",
    "rom_res,main_res,err_r=romberg(\"sin(x)\",a1=\"0\",b1=\"pi\",n=2,main_val=True,return_error=True)\n",
    "print(sim_res,trap_res,rom_res,main_res)\n",
    "print(err_s,err_t,err_r)"
   ],
   "outputs": [
    {
     "name": "stdout",
     "output_type": "stream",
     "text": [
      "2.0943951023931953 1.5707963267948966 1.480960979386122 2.0\n",
      "0.09439510239319526 0.42920367320510344 0.519039020613878\n"
     ]
    }
   ],
   "execution_count": 63
  },
  {
   "metadata": {},
   "cell_type": "markdown",
   "source": "Let's see if the errors get lower for larger n's or not.",
   "id": "251bb08fddca3a36"
  },
  {
   "metadata": {
    "ExecuteTime": {
     "end_time": "2025-06-15T17:27:48.445981Z",
     "start_time": "2025-06-15T17:27:48.196318Z"
    }
   },
   "cell_type": "code",
   "source": [
    "#solutions in multiple n\n",
    "import numpy as np\n",
    "import pandas as pd\n",
    "k=np.array([2,4,6,8,10,14])\n",
    "n=len(k)\n",
    "s_r=np.zeros(n+1,dtype=float)\n",
    "t_r=s_r.copy()\n",
    "r_r=s_r.copy()\n",
    "er_s=s_r.copy()\n",
    "er_t=s_r.copy()\n",
    "er_r=s_r.copy()\n",
    "main_res=s_r.copy()\n",
    "for i in range(n+1):\n",
    "    s_r[i],t_r[i],main_res[i],er_s[i],er_t[i]=simpson_trapezoidal(\"sin(x)\",a1=\"0\",b1=\"pi\",n=k[i-1],n1=k[i-1],main_val=True,error_s=True,error_t=True)\n",
    "    r_r[i],main_res1,er_r[i]=romberg(\"sin(x)\",a1=\"0\",b1=\"pi\",n=k[i-1],main_val=True,return_error=True)\n",
    "\n",
    "data=[[a,b,c,d,e,f,g,h] for a,b,c,d,e,f,g,h in zip(k,main_res,s_r,er_s,t_r,er_t,r_r,er_r)]\n",
    "df=pd.DataFrame(data,columns=['n',\"Exact solution\",\"Simpson's solution\",\"Error in Simpson's\",\"Trapezoidal's solution\",\"Error in Trapezoidal's\",\"Romberg's solution\",\"Error in Romberg's\"])\n",
    "display(df)"
   ],
   "id": "b47626ed5ff127eb",
   "outputs": [
    {
     "data": {
      "text/plain": [
       "    n  Exact solution  Simpson's solution  Error in Simpson's  \\\n",
       "0   2             2.0            2.000028            0.000028   \n",
       "1   4             2.0            2.094395            0.094395   \n",
       "2   6             2.0            2.004560            0.004560   \n",
       "3   8             2.0            2.000863            0.000863   \n",
       "4  10             2.0            2.000269            0.000269   \n",
       "5  14             2.0            2.000110            0.000110   \n",
       "\n",
       "   Trapezoidal's solution  Error in Trapezoidal's  Romberg's solution  \\\n",
       "0                1.991600                0.008400            1.999883   \n",
       "1                1.570796                0.429204            1.480961   \n",
       "2                1.896119                0.103881            1.879766   \n",
       "3                1.954097                0.045903            1.970089   \n",
       "4                1.974232                0.025768            1.992524   \n",
       "5                1.983524                0.016476            1.998131   \n",
       "\n",
       "   Error in Romberg's  \n",
       "0            0.000117  \n",
       "1            0.519039  \n",
       "2            0.120234  \n",
       "3            0.029911  \n",
       "4            0.007476  \n",
       "5            0.001869  "
      ],
      "text/html": [
       "<div>\n",
       "<style scoped>\n",
       "    .dataframe tbody tr th:only-of-type {\n",
       "        vertical-align: middle;\n",
       "    }\n",
       "\n",
       "    .dataframe tbody tr th {\n",
       "        vertical-align: top;\n",
       "    }\n",
       "\n",
       "    .dataframe thead th {\n",
       "        text-align: right;\n",
       "    }\n",
       "</style>\n",
       "<table border=\"1\" class=\"dataframe\">\n",
       "  <thead>\n",
       "    <tr style=\"text-align: right;\">\n",
       "      <th></th>\n",
       "      <th>n</th>\n",
       "      <th>Exact solution</th>\n",
       "      <th>Simpson's solution</th>\n",
       "      <th>Error in Simpson's</th>\n",
       "      <th>Trapezoidal's solution</th>\n",
       "      <th>Error in Trapezoidal's</th>\n",
       "      <th>Romberg's solution</th>\n",
       "      <th>Error in Romberg's</th>\n",
       "    </tr>\n",
       "  </thead>\n",
       "  <tbody>\n",
       "    <tr>\n",
       "      <th>0</th>\n",
       "      <td>2</td>\n",
       "      <td>2.0</td>\n",
       "      <td>2.000028</td>\n",
       "      <td>0.000028</td>\n",
       "      <td>1.991600</td>\n",
       "      <td>0.008400</td>\n",
       "      <td>1.999883</td>\n",
       "      <td>0.000117</td>\n",
       "    </tr>\n",
       "    <tr>\n",
       "      <th>1</th>\n",
       "      <td>4</td>\n",
       "      <td>2.0</td>\n",
       "      <td>2.094395</td>\n",
       "      <td>0.094395</td>\n",
       "      <td>1.570796</td>\n",
       "      <td>0.429204</td>\n",
       "      <td>1.480961</td>\n",
       "      <td>0.519039</td>\n",
       "    </tr>\n",
       "    <tr>\n",
       "      <th>2</th>\n",
       "      <td>6</td>\n",
       "      <td>2.0</td>\n",
       "      <td>2.004560</td>\n",
       "      <td>0.004560</td>\n",
       "      <td>1.896119</td>\n",
       "      <td>0.103881</td>\n",
       "      <td>1.879766</td>\n",
       "      <td>0.120234</td>\n",
       "    </tr>\n",
       "    <tr>\n",
       "      <th>3</th>\n",
       "      <td>8</td>\n",
       "      <td>2.0</td>\n",
       "      <td>2.000863</td>\n",
       "      <td>0.000863</td>\n",
       "      <td>1.954097</td>\n",
       "      <td>0.045903</td>\n",
       "      <td>1.970089</td>\n",
       "      <td>0.029911</td>\n",
       "    </tr>\n",
       "    <tr>\n",
       "      <th>4</th>\n",
       "      <td>10</td>\n",
       "      <td>2.0</td>\n",
       "      <td>2.000269</td>\n",
       "      <td>0.000269</td>\n",
       "      <td>1.974232</td>\n",
       "      <td>0.025768</td>\n",
       "      <td>1.992524</td>\n",
       "      <td>0.007476</td>\n",
       "    </tr>\n",
       "    <tr>\n",
       "      <th>5</th>\n",
       "      <td>14</td>\n",
       "      <td>2.0</td>\n",
       "      <td>2.000110</td>\n",
       "      <td>0.000110</td>\n",
       "      <td>1.983524</td>\n",
       "      <td>0.016476</td>\n",
       "      <td>1.998131</td>\n",
       "      <td>0.001869</td>\n",
       "    </tr>\n",
       "  </tbody>\n",
       "</table>\n",
       "</div>"
      ]
     },
     "metadata": {},
     "output_type": "display_data"
    }
   ],
   "execution_count": 64
  },
  {
   "metadata": {},
   "cell_type": "markdown",
   "source": [
    "For larger step size n, Simpson's method gave nearly 1e-4 accuracy. Romberg's method gave 1e-3 accuracy. Whereas, Trapezoidal rule gave 1e-2.\n",
    "Let's see the plot of n vs errors."
   ],
   "id": "c152538b35ce68d5"
  },
  {
   "metadata": {
    "ExecuteTime": {
     "end_time": "2025-06-15T17:27:48.903233Z",
     "start_time": "2025-06-15T17:27:48.472458Z"
    }
   },
   "cell_type": "code",
   "source": [
    "import matplotlib.pyplot as plt\n",
    "\n",
    "plt.plot(k, er_s[1:], marker='s', label=\"Simpson\")\n",
    "plt.plot(k, er_t[1:], marker='o', label=\"Trapezoidal\")\n",
    "plt.plot(k, er_r[1:], marker='^', label=\"Romberg\")\n",
    "plt.title(\"Accuracy comparison\")\n",
    "plt.xlabel(\"Step size\")\n",
    "plt.ylabel(\"Errors\")\n",
    "plt.grid(True)\n",
    "plt.legend()\n",
    "plt.show()"
   ],
   "id": "d116868fc93adb4e",
   "outputs": [
    {
     "data": {
      "text/plain": [
       "<Figure size 640x480 with 1 Axes>"
      ],
      "image/png": "[encoded data removed]"
     },
     "metadata": {},
     "output_type": "display_data"
    }
   ],
   "execution_count": 65
  }
 ],
 "metadata": {
  "kernelspec": {
   "display_name": "Python 3",
   "language": "python",
   "name": "python3"
  },
  "language_info": {
   "codemirror_mode": {
    "name": "ipython",
    "version": 2
   },
   "file_extension": ".py",
   "mimetype": "text/x-python",
   "name": "python",
   "nbconvert_exporter": "python",
   "pygments_lexer": "ipython2",
   "version": "2.7.6"
  }
 },
 "nbformat": 4,
 "nbformat_minor": 5
}
