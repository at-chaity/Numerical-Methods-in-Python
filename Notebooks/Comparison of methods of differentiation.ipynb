{
 "cells": [
  {
   "cell_type": "code",
   "id": "initial_id",
   "metadata": {
    "collapsed": true,
    "ExecuteTime": {
     "end_time": "2025-06-16T15:19:12.533878Z",
     "start_time": "2025-06-16T15:19:12.493863Z"
    }
   },
   "source": [
    "import sys\n",
    "import os\n",
    "\n",
    "import numpy as np\n",
    "import pandas as pd\n",
    "sys.path.append(os.path.abspath(\"../Codes\"))\n",
    "from Differentiation.differentiation import diff\n",
    "\n",
    "x=np.array([-2,-2.2,-2.4,-2.6,-2.8,3])\n",
    "y=np.array([4.389056,5.825013,7.623176,9.863738,12.64465,16.08554])\n",
    "p=-2.4\n",
    "fd,bd,end3,mid3,end5=diff(x,y,p)\n",
    "#exact solution\n",
    "dy_dx = np.gradient(y, x)\n",
    "idx = np.where(x == p)[0][0]\n",
    "exact_sol=dy_dx[idx]\n",
    "#table\n",
    "data={\"Exact solution\":exact_sol,\"Forward difference\":fd,\"Backward difference\":bd,\n",
    "\"3 point endpoint formula\":end3,\n",
    "\"3 point midpoint formula\":mid3,\n",
    "\"5 point endpoint formula\":end5}\n",
    "errors={name:np.linalg.norm(sol-exact_sol)for name,sol in data.items()}\n",
    "sol_table=pd.DataFrame.from_dict(data,orient=\"index\",columns=[\"Solution\"])\n",
    "er_table=pd.DataFrame.from_dict(errors,orient=\"index\",columns=[\"L2 norm\"])\n",
    "print(\"Solution by various methods:\")\n",
    "display(sol_table)\n",
    "print(\"Errors:\")\n",
    "display(er_table)\n"
   ],
   "outputs": [
    {
     "name": "stdout",
     "output_type": "stream",
     "text": [
      "Solution by various methods:\n"
     ]
    },
    {
     "data": {
      "text/plain": [
       "                           Solution\n",
       "Exact solution           -10.096812\n",
       "Forward difference       -11.202810\n",
       "Backward difference       -8.990815\n",
       "3 point endpoint formula  -9.851935\n",
       "3 point midpoint formula -10.096812\n",
       "5 point endpoint formula -10.022586"
      ],
      "text/html": [
       "<div>\n",
       "<style scoped>\n",
       "    .dataframe tbody tr th:only-of-type {\n",
       "        vertical-align: middle;\n",
       "    }\n",
       "\n",
       "    .dataframe tbody tr th {\n",
       "        vertical-align: top;\n",
       "    }\n",
       "\n",
       "    .dataframe thead th {\n",
       "        text-align: right;\n",
       "    }\n",
       "</style>\n",
       "<table border=\"1\" class=\"dataframe\">\n",
       "  <thead>\n",
       "    <tr style=\"text-align: right;\">\n",
       "      <th></th>\n",
       "      <th>Solution</th>\n",
       "    </tr>\n",
       "  </thead>\n",
       "  <tbody>\n",
       "    <tr>\n",
       "      <th>Exact solution</th>\n",
       "      <td>-10.096812</td>\n",
       "    </tr>\n",
       "    <tr>\n",
       "      <th>Forward difference</th>\n",
       "      <td>-11.202810</td>\n",
       "    </tr>\n",
       "    <tr>\n",
       "      <th>Backward difference</th>\n",
       "      <td>-8.990815</td>\n",
       "    </tr>\n",
       "    <tr>\n",
       "      <th>3 point endpoint formula</th>\n",
       "      <td>-9.851935</td>\n",
       "    </tr>\n",
       "    <tr>\n",
       "      <th>3 point midpoint formula</th>\n",
       "      <td>-10.096812</td>\n",
       "    </tr>\n",
       "    <tr>\n",
       "      <th>5 point endpoint formula</th>\n",
       "      <td>-10.022586</td>\n",
       "    </tr>\n",
       "  </tbody>\n",
       "</table>\n",
       "</div>"
      ]
     },
     "metadata": {},
     "output_type": "display_data"
    },
    {
     "name": "stdout",
     "output_type": "stream",
     "text": [
      "Errors:\n"
     ]
    },
    {
     "data": {
      "text/plain": [
       "                               L2 norm\n",
       "Exact solution            0.000000e+00\n",
       "Forward difference        1.105997e+00\n",
       "Backward difference       1.105998e+00\n",
       "3 point endpoint formula  2.448775e-01\n",
       "3 point midpoint formula  3.552714e-15\n",
       "5 point endpoint formula  7.422667e-02"
      ],
      "text/html": [
       "<div>\n",
       "<style scoped>\n",
       "    .dataframe tbody tr th:only-of-type {\n",
       "        vertical-align: middle;\n",
       "    }\n",
       "\n",
       "    .dataframe tbody tr th {\n",
       "        vertical-align: top;\n",
       "    }\n",
       "\n",
       "    .dataframe thead th {\n",
       "        text-align: right;\n",
       "    }\n",
       "</style>\n",
       "<table border=\"1\" class=\"dataframe\">\n",
       "  <thead>\n",
       "    <tr style=\"text-align: right;\">\n",
       "      <th></th>\n",
       "      <th>L2 norm</th>\n",
       "    </tr>\n",
       "  </thead>\n",
       "  <tbody>\n",
       "    <tr>\n",
       "      <th>Exact solution</th>\n",
       "      <td>0.000000e+00</td>\n",
       "    </tr>\n",
       "    <tr>\n",
       "      <th>Forward difference</th>\n",
       "      <td>1.105997e+00</td>\n",
       "    </tr>\n",
       "    <tr>\n",
       "      <th>Backward difference</th>\n",
       "      <td>1.105998e+00</td>\n",
       "    </tr>\n",
       "    <tr>\n",
       "      <th>3 point endpoint formula</th>\n",
       "      <td>2.448775e-01</td>\n",
       "    </tr>\n",
       "    <tr>\n",
       "      <th>3 point midpoint formula</th>\n",
       "      <td>3.552714e-15</td>\n",
       "    </tr>\n",
       "    <tr>\n",
       "      <th>5 point endpoint formula</th>\n",
       "      <td>7.422667e-02</td>\n",
       "    </tr>\n",
       "  </tbody>\n",
       "</table>\n",
       "</div>"
      ]
     },
     "metadata": {},
     "output_type": "display_data"
    }
   ],
   "execution_count": 8
  },
  {
   "metadata": {},
   "cell_type": "markdown",
   "source": "3 point mid-point formula gives better accuracy and Backward difference gives the worst accuracy.  ",
   "id": "23051cce40e8e7da"
  }
 ],
 "metadata": {
  "kernelspec": {
   "display_name": "Python 3",
   "language": "python",
   "name": "python3"
  },
  "language_info": {
   "codemirror_mode": {
    "name": "ipython",
    "version": 2
   },
   "file_extension": ".py",
   "mimetype": "text/x-python",
   "name": "python",
   "nbconvert_exporter": "python",
   "pygments_lexer": "ipython2",
   "version": "2.7.6"
  }
 },
 "nbformat": 4,
 "nbformat_minor": 5
}
